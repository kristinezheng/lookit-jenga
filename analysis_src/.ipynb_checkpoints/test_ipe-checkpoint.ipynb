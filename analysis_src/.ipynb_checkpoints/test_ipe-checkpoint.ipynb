{
 "cells": [
  {
   "cell_type": "code",
   "execution_count": null,
   "metadata": {},
   "outputs": [],
   "source": [
    "import os\n",
    "from ipe import *\n",
    "import argparse\n",
    "import pybullet as p\n",
    "import pybullet_data\n",
    "import json"
   ]
  },
  {
   "cell_type": "code",
   "execution_count": null,
   "metadata": {},
   "outputs": [],
   "source": [
    "dict_filt = lambda x, y: dict([ (i,x[i]) for i in x if i in set(y) ])"
   ]
  },
  {
   "cell_type": "markdown",
   "metadata": {},
   "source": [
    "## json files are here: https://github.com/kristinezheng/lookit-jenga/tree/main/2_20_towers "
   ]
  },
  {
   "cell_type": "code",
   "execution_count": null,
   "metadata": {},
   "outputs": [],
   "source": [
    "FILEPATHS = [\n",
    "    '../2_20_towers/7974.json', \n",
    "    '../2_20_towers/7978.json',\n",
    "    '../2_20_towers/7979.json'\n",
    "]"
   ]
  },
  {
   "cell_type": "code",
   "execution_count": null,
   "metadata": {},
   "outputs": [],
   "source": [
    "def parse_data(FP):\n",
    "    structures = []\n",
    "    for f in FP:\n",
    "#         prev_stability_score = float(f.split(\"/\")[1].split(\"_\")[0])\n",
    "#         print(prev_stability_score)\n",
    "#         if prev_stability_score < 1.:\n",
    "#             \n",
    "        full_path = os.path.join('',f)#/Users/kristinezheng/jenga-performance-art/json/\n",
    "            #os.path.join(\"..\", \"..\", \"json\", \"2023_08_26\", f)\n",
    "        with open(full_path) as file:\n",
    "            structure = json.load(file)\n",
    "        structures.append(structure)\n",
    "    return structures"
   ]
  },
  {
   "cell_type": "code",
   "execution_count": null,
   "metadata": {},
   "outputs": [],
   "source": [
    "s = parse_data(FILEPATHS)"
   ]
  },
  {
   "cell_type": "code",
   "execution_count": null,
   "metadata": {},
   "outputs": [],
   "source": [
    "#separate out parameters for different block heights\n",
    "block_1 = [dict_filt(s[i].copy(), ('1','')) for i in range(len(FILEPATHS))]\n",
    "block_2 = [dict_filt(s[i].copy(), ('1','2')) for i in range(len(FILEPATHS))]\n",
    "block_3 = [dict_filt(s[i].copy(), ('1','2','3','')) for i in range(len(FILEPATHS))]\n",
    "block_4 = [dict_filt(s[i].copy(), ('1','2','3','4')) for i in range(len(FILEPATHS))]\n",
    "block_5 = [dict_filt(s[i].copy(), ('1','2','3','4', '5')) for i in range(len(FILEPATHS))]\n",
    "block_6 = [dict_filt(s[i].copy(), ('1','2','3','4', '5', '6')) for i in range(len(FILEPATHS))]\n",
    "block_7 = [dict_filt(s[i].copy(), ('1','2','3','4', '5', '6', '7')) for i in range(len(FILEPATHS))]\n",
    "block_8 = [dict_filt(s[i].copy(), ('1','2','3','4', '5', '6', '7', '8')) for i in range(len(FILEPATHS))]\n",
    "block_9 = [dict_filt(s[i].copy(), ('1','2','3','4', '5', '6', '7', '8', '9')) for i in range(len(FILEPATHS))]\n",
    "block_10 = [dict_filt(s[i].copy(), ('1','2','3','4', '5', '6', '7', '8', '9', '10')) for i in range(len(FILEPATHS))]"
   ]
  },
  {
   "cell_type": "code",
   "execution_count": null,
   "metadata": {},
   "outputs": [],
   "source": [
    "def fall_rate(sim_no, parsed_structures, FP, save = False):\n",
    "#     structures = parse_data(FP)\n",
    "    structures = parsed_structures\n",
    "    no_struct = len(structures)\n",
    "    number_blocks = len(structures[0].keys())\n",
    "    results = []\n",
    "    for i in range(len(structures)):\n",
    "        print('structure:',str(i), 'out of', str(no_struct))\n",
    "        s = structures[i]\n",
    "        number_blocks = len(s.keys())\n",
    "        sim_no.N = len(s)\n",
    "        fall_rate, init_data = sim_no.fsm(1./240, blocks=s, is_final_config=True, is_initial=False)\n",
    "        while p.getNumBodies() > 1:\n",
    "            sim.del_bodies()\n",
    "        \n",
    "        result = json.dumps({'path': FP[i], 'fall_rate': fall_rate, 'number_blocks': number_blocks})\n",
    "        results.append(result)\n",
    "        if save:\n",
    "            stimuli_name = FP[i].split('/')[-1][:-5]\n",
    "            with open(f\"results_{stimuli_name}.txt\", \"a\") as f:\n",
    "                line = f'\"{number_blocks}\":{fall_rate},'\n",
    "                f.writelines(line)\n",
    "    return results"
   ]
  },
  {
   "cell_type": "markdown",
   "metadata": {},
   "source": [
    "## Important: have to restart kernel to run each sim/block number"
   ]
  },
  {
   "cell_type": "code",
   "execution_count": null,
   "metadata": {},
   "outputs": [],
   "source": [
    "init_args_1 = {\"display\": False,\n",
    "                 \"save_dir\": '/Users/kristinezheng/lookit-jenga/analysis_src/saved_results',\n",
    "                 \"num_trials\": 100,\n",
    "                 \"N\": 1, #number of blocks in tower\n",
    "                 \"seed\": 0,\n",
    "                 \"mh_iters\": 3}\n",
    "\n",
    "sim1 = Sim(**init_args_1)"
   ]
  },
  {
   "cell_type": "code",
   "execution_count": null,
   "metadata": {},
   "outputs": [],
   "source": [
    "init_args_2 = {\"display\": False,\n",
    "                 \"save_dir\": '/Users/kristinezheng/lookit-jenga/analysis_src/saved_results',\n",
    "                 \"num_trials\": 100,\n",
    "                 \"N\": 2, #number of blocks in tower\n",
    "                 \"seed\": 0,\n",
    "                 \"mh_iters\": 3}\n",
    "\n",
    "sim2 = Sim(**init_args_2)"
   ]
  },
  {
   "cell_type": "code",
   "execution_count": null,
   "metadata": {},
   "outputs": [],
   "source": [
    "init_args_3 = {\"display\": False,\n",
    "                 \"save_dir\": '/Users/kristinezheng/lookit-jenga/analysis_src/saved_results',\n",
    "                 \"num_trials\": 100,\n",
    "                 \"N\": 3, #number of blocks in tower\n",
    "                 \"seed\": 0,\n",
    "                 \"mh_iters\": 3}\n",
    "\n",
    "sim3 = Sim(**init_args_3)"
   ]
  },
  {
   "cell_type": "code",
   "execution_count": null,
   "metadata": {},
   "outputs": [],
   "source": [
    "init_args_4 = {\"display\": False,\n",
    "                 \"save_dir\": '/Users/kristinezheng/lookit-jenga/analysis_src/saved_results',\n",
    "                 \"num_trials\": 100,\n",
    "                 \"N\": 4, #number of blocks in tower\n",
    "                 \"seed\": 0,\n",
    "                 \"mh_iters\": 3}\n",
    "\n",
    "sim4 = Sim(**init_args_4)"
   ]
  },
  {
   "cell_type": "code",
   "execution_count": null,
   "metadata": {},
   "outputs": [],
   "source": [
    "init_args_5 = {\"display\": False,\n",
    "                 \"save_dir\": '/Users/kristinezheng/lookit-jenga/analysis_src/saved_results',\n",
    "                 \"num_trials\": 100,\n",
    "                 \"N\": 5, #number of blocks in tower\n",
    "                 \"seed\": 0,\n",
    "                 \"mh_iters\": 3}\n",
    "\n",
    "sim5 = Sim(**init_args_5)"
   ]
  },
  {
   "cell_type": "code",
   "execution_count": null,
   "metadata": {},
   "outputs": [],
   "source": [
    "init_args_6 = {\"display\": False,\n",
    "                 \"save_dir\": '/Users/kristinezheng/lookit-jenga/analysis_src/saved_results',\n",
    "                 \"num_trials\": 100,\n",
    "                 \"N\": 6, #number of blocks in tower\n",
    "                 \"seed\": 0,\n",
    "                 \"mh_iters\": 3}\n",
    "\n",
    "sim6 = Sim(**init_args_6)"
   ]
  },
  {
   "cell_type": "code",
   "execution_count": null,
   "metadata": {},
   "outputs": [],
   "source": [
    "init_args_7 = {\"display\": False,\n",
    "                 \"save_dir\": '/Users/kristinezheng/lookit-jenga/analysis_src/saved_results',\n",
    "                 \"num_trials\": 100,\n",
    "                 \"N\": 7, #number of blocks in tower\n",
    "                 \"seed\": 0,\n",
    "                 \"mh_iters\": 3}\n",
    "\n",
    "sim7 = Sim(**init_args_7)"
   ]
  },
  {
   "cell_type": "code",
   "execution_count": null,
   "metadata": {},
   "outputs": [],
   "source": [
    "init_args_8 = {\"display\": False,\n",
    "                 \"save_dir\": '/Users/kristinezheng/lookit-jenga/analysis_src/saved_results',\n",
    "                 \"num_trials\": 100,\n",
    "                 \"N\": 8, #number of blocks in tower\n",
    "                 \"seed\": 0,\n",
    "                 \"mh_iters\": 3}\n",
    "\n",
    "sim8 = Sim(**init_args_8)"
   ]
  },
  {
   "cell_type": "code",
   "execution_count": null,
   "metadata": {},
   "outputs": [],
   "source": [
    "init_args_9 = {\"display\": False,\n",
    "                 \"save_dir\": '/Users/kristinezheng/lookit-jenga/analysis_src/saved_results',\n",
    "                 \"num_trials\": 100,\n",
    "                 \"N\": 9, #number of blocks in tower\n",
    "                 \"seed\": 0,\n",
    "                 \"mh_iters\": 3}\n",
    "\n",
    "sim9 = Sim(**init_args_9)"
   ]
  },
  {
   "cell_type": "code",
   "execution_count": null,
   "metadata": {},
   "outputs": [],
   "source": [
    "init_args_10 = {\"display\": False,\n",
    "                 \"save_dir\": '/Users/kristinezheng/lookit-jenga/analysis_src/saved_results',\n",
    "                 \"num_trials\": 100,\n",
    "                 \"N\": 10, #number of blocks in tower\n",
    "                 \"seed\": 0,\n",
    "                 \"mh_iters\": 3}\n",
    "\n",
    "sim10 = Sim(**init_args_10)"
   ]
  },
  {
   "cell_type": "code",
   "execution_count": null,
   "metadata": {},
   "outputs": [],
   "source": [
    "f_rate2 = fall_rate(sim2, block_2, FILEPATHS, True)"
   ]
  },
  {
   "cell_type": "code",
   "execution_count": null,
   "metadata": {},
   "outputs": [],
   "source": [
    "f_rate3 = fall_rate(sim3, block_3, FILEPATHS, True)"
   ]
  },
  {
   "cell_type": "code",
   "execution_count": null,
   "metadata": {},
   "outputs": [],
   "source": [
    "f_rate4 = fall_rate(sim4, block_4, FILEPATHS, True)"
   ]
  },
  {
   "cell_type": "code",
   "execution_count": null,
   "metadata": {
    "scrolled": true
   },
   "outputs": [],
   "source": [
    "f_rate5 = fall_rate(sim5, block_5, FILEPATHS, True)"
   ]
  },
  {
   "cell_type": "code",
   "execution_count": null,
   "metadata": {},
   "outputs": [],
   "source": [
    "f_rate6 = fall_rate(sim6, block_6, FILEPATHS, True)"
   ]
  },
  {
   "cell_type": "code",
   "execution_count": null,
   "metadata": {
    "scrolled": true
   },
   "outputs": [],
   "source": [
    "f_rate7 = fall_rate(sim7, block_7, FILEPATHS, True)"
   ]
  },
  {
   "cell_type": "code",
   "execution_count": null,
   "metadata": {},
   "outputs": [],
   "source": [
    "f_rate8 = fall_rate(sim8, block_8, FILEPATHS, True)"
   ]
  },
  {
   "cell_type": "code",
   "execution_count": null,
   "metadata": {},
   "outputs": [],
   "source": [
    "f_rate9 = fall_rate(sim9, block_9, FILEPATHS, True)"
   ]
  },
  {
   "cell_type": "code",
   "execution_count": null,
   "metadata": {},
   "outputs": [],
   "source": [
    "f_rate10 = fall_rate(sim10, block_10, FILEPATHS, True)"
   ]
  }
 ],
 "metadata": {
  "kernelspec": {
   "display_name": "Python 3 (ipykernel)",
   "language": "python",
   "name": "python3"
  },
  "language_info": {
   "codemirror_mode": {
    "name": "ipython",
    "version": 3
   },
   "file_extension": ".py",
   "mimetype": "text/x-python",
   "name": "python",
   "nbconvert_exporter": "python",
   "pygments_lexer": "ipython3",
   "version": "3.8.8"
  }
 },
 "nbformat": 4,
 "nbformat_minor": 2
}
